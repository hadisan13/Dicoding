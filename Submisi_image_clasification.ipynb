{
  "nbformat": 4,
  "nbformat_minor": 0,
  "metadata": {
    "colab": {
      "name": "Submisi_image_clasification.ipynb",
      "provenance": [],
      "collapsed_sections": [],
      "authorship_tag": "ABX9TyOS+0m5MpssXKFSIcXWbyfY",
      "include_colab_link": true
    },
    "kernelspec": {
      "name": "python3",
      "display_name": "Python 3"
    }
  },
  "cells": [
    {
      "cell_type": "markdown",
      "metadata": {
        "id": "view-in-github",
        "colab_type": "text"
      },
      "source": [
        "<a href=\"https://colab.research.google.com/github/hadisan13/Dicoding/blob/main/Submisi_image_clasification.ipynb\" target=\"_parent\"><img src=\"https://colab.research.google.com/assets/colab-badge.svg\" alt=\"Open In Colab\"/></a>"
      ]
    },
    {
      "cell_type": "code",
      "metadata": {
        "id": "DHnp_ekQRFam",
        "colab": {
          "base_uri": "https://localhost:8080/"
        },
        "outputId": "8f5d0698-c51c-4ba9-9231-414e189514cb"
      },
      "source": [
        "!pip install split-folders"
      ],
      "execution_count": null,
      "outputs": [
        {
          "output_type": "stream",
          "text": [
            "Requirement already satisfied: split-folders in /usr/local/lib/python3.6/dist-packages (0.4.2)\n"
          ],
          "name": "stdout"
        }
      ]
    },
    {
      "cell_type": "code",
      "metadata": {
        "id": "PgGqzD1TwI47"
      },
      "source": [
        "import tensorflow as tf\n",
        "from tensorflow.keras.optimizers import RMSprop\n",
        "from tensorflow.keras.preprocessing.image import ImageDataGenerator\n",
        "import splitfolders\n",
        "import zipfile,os"
      ],
      "execution_count": null,
      "outputs": []
    },
    {
      "cell_type": "code",
      "metadata": {
        "id": "suzxwaJ0wXGp",
        "colab": {
          "base_uri": "https://localhost:8080/"
        },
        "outputId": "35558cd3-375a-4589-8c36-617fb1d9445e"
      },
      "source": [
        "!wget --no-check-certificate \\\n",
        "  https://dicodingacademy.blob.core.windows.net/picodiploma/ml_pemula_academy/rockpaperscissors.zip \\\n",
        "  -O /tmp/rockpaperscissors.zip\n"
      ],
      "execution_count": null,
      "outputs": [
        {
          "output_type": "stream",
          "text": [
            "--2020-10-08 03:36:16--  https://dicodingacademy.blob.core.windows.net/picodiploma/ml_pemula_academy/rockpaperscissors.zip\n",
            "Resolving dicodingacademy.blob.core.windows.net (dicodingacademy.blob.core.windows.net)... 52.239.197.36\n",
            "Connecting to dicodingacademy.blob.core.windows.net (dicodingacademy.blob.core.windows.net)|52.239.197.36|:443... connected.\n",
            "HTTP request sent, awaiting response... 200 OK\n",
            "Length: 322873683 (308M) [application/zip]\n",
            "Saving to: ‘/tmp/rockpaperscissors.zip’\n",
            "\n",
            "/tmp/rockpapersciss 100%[===================>] 307.92M  9.25MB/s    in 38s     \n",
            "\n",
            "2020-10-08 03:36:55 (8.03 MB/s) - ‘/tmp/rockpaperscissors.zip’ saved [322873683/322873683]\n",
            "\n"
          ],
          "name": "stdout"
        }
      ]
    },
    {
      "cell_type": "code",
      "metadata": {
        "id": "l-O_JWvPDB1x"
      },
      "source": [
        "# melakukan ekstraksi pada file zip\n",
        "local_zip = '/tmp/rockpaperscissors.zip'\n",
        "zip_ref = zipfile.ZipFile(local_zip, 'r')\n",
        "zip_ref.extractall('/tmp')\n",
        "zip_ref.close()"
      ],
      "execution_count": null,
      "outputs": []
    },
    {
      "cell_type": "code",
      "metadata": {
        "id": "zVKqEgbE-o4z",
        "colab": {
          "base_uri": "https://localhost:8080/"
        },
        "outputId": "dc229a71-d463-4ef3-fc40-76a5bc77d43d"
      },
      "source": [
        "base_dir = \"/tmp/rockpaperscissors/rps-cv-images\"\n",
        "output_dir = \"/tmp/rockpaperscissors/splitted-data\"\n",
        "splitfolders.ratio(base_dir, output_dir, seed=1337, ratio=(.6, .4), group_prefix=None)"
      ],
      "execution_count": null,
      "outputs": [
        {
          "output_type": "stream",
          "text": [
            "Copying files: 2188 files [00:00, 2984.27 files/s]\n"
          ],
          "name": "stderr"
        }
      ]
    },
    {
      "cell_type": "code",
      "metadata": {
        "id": "2xfRzz78Jlvw",
        "colab": {
          "base_uri": "https://localhost:8080/"
        },
        "outputId": "aad91e81-066e-424f-c9ff-27bd7bb20902"
      },
      "source": [
        "os.listdir(output_dir)"
      ],
      "execution_count": null,
      "outputs": [
        {
          "output_type": "execute_result",
          "data": {
            "text/plain": [
              "['train', 'val']"
            ]
          },
          "metadata": {
            "tags": []
          },
          "execution_count": 12
        }
      ]
    },
    {
      "cell_type": "code",
      "metadata": {
        "id": "wChAecHUGAWm"
      },
      "source": [
        "train_dir = os.path.join(output_dir, 'train')\n",
        "test_dir = os.path.join(output_dir, 'val')\n",
        "\n",
        "# membuat direktori pada direktori data training\n",
        "train_rock_dir = os.path.join(train_dir, 'rock')\n",
        "train_paper_dir = os.path.join(train_dir, 'paper')\n",
        "train_scissors_dir = os.path.join(train_dir, 'scissors')\n",
        "\n",
        "test_rock_dir = os.path.join(test_dir, 'rock')\n",
        "test_paper_dir = os.path.join(test_dir, 'paper')\n",
        "test_scissors_dir = os.path.join(test_dir, 'scissors')\n",
        " \n"
      ],
      "execution_count": null,
      "outputs": []
    },
    {
      "cell_type": "code",
      "metadata": {
        "id": "MGpqPhCWw4l_"
      },
      "source": [
        "train_datagen = ImageDataGenerator(\n",
        "                    rescale=1./255,\n",
        "                    horizontal_flip=True,\n",
        "                    rotation_range=20,\n",
        "                    width_shift_range=0.2,\n",
        "                    height_shift_range=0.2,\n",
        "                    fill_mode = 'nearest')\n",
        " \n",
        "test_datagen = ImageDataGenerator(\n",
        "                    rescale=1./255,\n",
        "                    horizontal_flip=True,\n",
        "                    rotation_range=20,\n",
        "                    width_shift_range=0.2,\n",
        "                    height_shift_range=0.2,\n",
        "                    fill_mode = 'nearest')\n",
        "  "
      ],
      "execution_count": null,
      "outputs": []
    },
    {
      "cell_type": "code",
      "metadata": {
        "id": "Z_R_EJwB1QfC",
        "colab": {
          "base_uri": "https://localhost:8080/"
        },
        "outputId": "5717e13a-8537-40fe-ff55-f38fd245af52"
      },
      "source": [
        "train_generator = train_datagen.flow_from_directory(\n",
        "        train_dir,  # direktori data latih\n",
        "        target_size=(150, 150),  # mengubah resolusi seluruh gambar menjadi 150x150 piksel\n",
        "        batch_size=4,\n",
        "        class_mode='categorical')\n",
        "\n",
        "test_generator = test_datagen.flow_from_directory(\n",
        "        test_dir,  # direktori data latih\n",
        "        target_size=(150, 150),  # mengubah resolusi seluruh gambar menjadi 150x150 piksel\n",
        "        batch_size=4,\n",
        "        class_mode='categorical')\n",
        " "
      ],
      "execution_count": null,
      "outputs": [
        {
          "output_type": "stream",
          "text": [
            "Found 1312 images belonging to 3 classes.\n",
            "Found 876 images belonging to 3 classes.\n"
          ],
          "name": "stdout"
        }
      ]
    },
    {
      "cell_type": "code",
      "metadata": {
        "id": "64J7lJ-s1Sal"
      },
      "source": [
        "model = tf.keras.models.Sequential([\n",
        "    tf.keras.layers.Conv2D(128, (3,3), activation='relu', input_shape=(150, 150, 3)),\n",
        "    tf.keras.layers.MaxPooling2D(2, 2),\n",
        "    tf.keras.layers.Conv2D(64, (3,3), activation='relu'),\n",
        "    tf.keras.layers.MaxPooling2D(2,2),\n",
        "    tf.keras.layers.Conv2D(32, (3,3), activation='relu'),\n",
        "    tf.keras.layers.MaxPooling2D(2,2),\n",
        "    tf.keras.layers.Conv2D(16, (3,3), activation='relu'),\n",
        "    tf.keras.layers.MaxPooling2D(2,2),\n",
        "    tf.keras.layers.Flatten(),\n",
        "    tf.keras.layers.Dense(256, activation='relu'),\n",
        "    tf.keras.layers.Dense(3, activation='softmax')\n",
        "])\n"
      ],
      "execution_count": null,
      "outputs": []
    },
    {
      "cell_type": "code",
      "metadata": {
        "id": "xC-oqZZR3ha1"
      },
      "source": [
        "model.compile(loss='categorical_crossentropy',\n",
        "              optimizer=tf.optimizers.Adam(learning_rate=0.0001),\n",
        "              metrics=['accuracy'])"
      ],
      "execution_count": null,
      "outputs": []
    },
    {
      "cell_type": "code",
      "metadata": {
        "id": "s68N2obp9GcE",
        "colab": {
          "base_uri": "https://localhost:8080/"
        },
        "outputId": "ae194158-2577-4161-acce-9393d5465fc6"
      },
      "source": [
        "model.fit(\n",
        "      train_generator,\n",
        "      steps_per_epoch=25,  # berapa batch yang akan dieksekusi pada setiap epoch\n",
        "      epochs=100,\n",
        "      validation_data=test_generator, # menampilkan akurasi pengujian data validasi\n",
        "      validation_steps=5,  # berapa batch yang akan dieksekusi pada setiap epoch\n",
        "      verbose=2)"
      ],
      "execution_count": null,
      "outputs": [
        {
          "output_type": "stream",
          "text": [
            "Epoch 1/100\n",
            "25/25 - 10s - loss: 1.1044 - accuracy: 0.3200 - val_loss: 1.0993 - val_accuracy: 0.3000\n",
            "Epoch 2/100\n",
            "25/25 - 10s - loss: 1.0966 - accuracy: 0.3700 - val_loss: 1.0922 - val_accuracy: 0.3000\n",
            "Epoch 3/100\n",
            "25/25 - 10s - loss: 1.0836 - accuracy: 0.4200 - val_loss: 1.1127 - val_accuracy: 0.3000\n",
            "Epoch 4/100\n",
            "25/25 - 10s - loss: 1.1038 - accuracy: 0.3300 - val_loss: 1.0750 - val_accuracy: 0.5500\n",
            "Epoch 5/100\n",
            "25/25 - 10s - loss: 1.0856 - accuracy: 0.4100 - val_loss: 1.0683 - val_accuracy: 0.3500\n",
            "Epoch 6/100\n",
            "25/25 - 10s - loss: 1.0901 - accuracy: 0.3300 - val_loss: 1.0674 - val_accuracy: 0.4000\n",
            "Epoch 7/100\n",
            "25/25 - 10s - loss: 1.0825 - accuracy: 0.3900 - val_loss: 1.0664 - val_accuracy: 0.4000\n",
            "Epoch 8/100\n",
            "25/25 - 10s - loss: 1.0532 - accuracy: 0.5500 - val_loss: 1.0145 - val_accuracy: 0.6500\n",
            "Epoch 9/100\n",
            "25/25 - 10s - loss: 1.0498 - accuracy: 0.4300 - val_loss: 1.0427 - val_accuracy: 0.4500\n",
            "Epoch 10/100\n",
            "25/25 - 10s - loss: 1.0199 - accuracy: 0.4600 - val_loss: 0.9823 - val_accuracy: 0.5000\n",
            "Epoch 11/100\n",
            "25/25 - 10s - loss: 0.9998 - accuracy: 0.5100 - val_loss: 0.8744 - val_accuracy: 0.7000\n",
            "Epoch 12/100\n",
            "25/25 - 10s - loss: 0.9105 - accuracy: 0.6200 - val_loss: 0.9784 - val_accuracy: 0.5500\n",
            "Epoch 13/100\n",
            "25/25 - 15s - loss: 0.8497 - accuracy: 0.7300 - val_loss: 1.0246 - val_accuracy: 0.5500\n",
            "Epoch 14/100\n",
            "25/25 - 10s - loss: 0.9081 - accuracy: 0.6100 - val_loss: 0.7343 - val_accuracy: 0.7000\n",
            "Epoch 15/100\n",
            "25/25 - 10s - loss: 0.7277 - accuracy: 0.7500 - val_loss: 0.6426 - val_accuracy: 0.7500\n",
            "Epoch 16/100\n",
            "25/25 - 10s - loss: 0.6901 - accuracy: 0.7800 - val_loss: 0.5841 - val_accuracy: 0.9000\n",
            "Epoch 17/100\n",
            "25/25 - 10s - loss: 0.6391 - accuracy: 0.7400 - val_loss: 0.7354 - val_accuracy: 0.7000\n",
            "Epoch 18/100\n",
            "25/25 - 10s - loss: 0.6382 - accuracy: 0.7400 - val_loss: 0.6528 - val_accuracy: 0.6500\n",
            "Epoch 19/100\n",
            "25/25 - 10s - loss: 0.5619 - accuracy: 0.7800 - val_loss: 0.8623 - val_accuracy: 0.6000\n",
            "Epoch 20/100\n",
            "25/25 - 10s - loss: 0.5106 - accuracy: 0.8400 - val_loss: 0.4709 - val_accuracy: 0.7500\n",
            "Epoch 21/100\n",
            "25/25 - 10s - loss: 0.5133 - accuracy: 0.8100 - val_loss: 0.7159 - val_accuracy: 0.7000\n",
            "Epoch 22/100\n",
            "25/25 - 10s - loss: 0.4926 - accuracy: 0.7700 - val_loss: 0.4044 - val_accuracy: 0.8000\n",
            "Epoch 23/100\n",
            "25/25 - 10s - loss: 0.5079 - accuracy: 0.7900 - val_loss: 0.6722 - val_accuracy: 0.6500\n",
            "Epoch 24/100\n",
            "25/25 - 10s - loss: 0.4497 - accuracy: 0.8600 - val_loss: 0.3209 - val_accuracy: 0.9500\n",
            "Epoch 25/100\n",
            "25/25 - 10s - loss: 0.4923 - accuracy: 0.7700 - val_loss: 0.4063 - val_accuracy: 0.9500\n",
            "Epoch 26/100\n",
            "25/25 - 10s - loss: 0.3618 - accuracy: 0.8700 - val_loss: 0.5747 - val_accuracy: 0.7500\n",
            "Epoch 27/100\n",
            "25/25 - 10s - loss: 0.4157 - accuracy: 0.8300 - val_loss: 0.1864 - val_accuracy: 0.9000\n",
            "Epoch 28/100\n",
            "25/25 - 10s - loss: 0.3516 - accuracy: 0.8700 - val_loss: 0.4417 - val_accuracy: 0.7500\n",
            "Epoch 29/100\n",
            "25/25 - 10s - loss: 0.4676 - accuracy: 0.8300 - val_loss: 0.4822 - val_accuracy: 0.8500\n",
            "Epoch 30/100\n",
            "25/25 - 10s - loss: 0.5165 - accuracy: 0.8200 - val_loss: 0.7833 - val_accuracy: 0.7000\n",
            "Epoch 31/100\n",
            "25/25 - 10s - loss: 0.3338 - accuracy: 0.8800 - val_loss: 0.3687 - val_accuracy: 0.8000\n",
            "Epoch 32/100\n",
            "25/25 - 10s - loss: 0.3583 - accuracy: 0.8800 - val_loss: 0.4897 - val_accuracy: 0.8000\n",
            "Epoch 33/100\n",
            "25/25 - 10s - loss: 0.3592 - accuracy: 0.8800 - val_loss: 0.6379 - val_accuracy: 0.7500\n",
            "Epoch 34/100\n",
            "25/25 - 10s - loss: 0.4551 - accuracy: 0.8400 - val_loss: 0.4211 - val_accuracy: 0.9500\n",
            "Epoch 35/100\n",
            "25/25 - 10s - loss: 0.5174 - accuracy: 0.8300 - val_loss: 0.5485 - val_accuracy: 0.7000\n",
            "Epoch 36/100\n",
            "25/25 - 10s - loss: 0.4330 - accuracy: 0.8600 - val_loss: 0.3773 - val_accuracy: 0.9500\n",
            "Epoch 37/100\n",
            "25/25 - 10s - loss: 0.5051 - accuracy: 0.8200 - val_loss: 0.6050 - val_accuracy: 0.7000\n",
            "Epoch 38/100\n",
            "25/25 - 10s - loss: 0.4157 - accuracy: 0.9000 - val_loss: 0.2396 - val_accuracy: 0.9500\n",
            "Epoch 39/100\n",
            "25/25 - 10s - loss: 0.3309 - accuracy: 0.8400 - val_loss: 0.4032 - val_accuracy: 0.9500\n",
            "Epoch 40/100\n",
            "25/25 - 10s - loss: 0.3967 - accuracy: 0.8200 - val_loss: 0.2602 - val_accuracy: 0.9000\n",
            "Epoch 41/100\n",
            "25/25 - 10s - loss: 0.2924 - accuracy: 0.9300 - val_loss: 0.3691 - val_accuracy: 0.8500\n",
            "Epoch 42/100\n",
            "25/25 - 10s - loss: 0.4399 - accuracy: 0.8500 - val_loss: 0.2046 - val_accuracy: 0.9000\n",
            "Epoch 43/100\n",
            "25/25 - 10s - loss: 0.3448 - accuracy: 0.9100 - val_loss: 0.4820 - val_accuracy: 0.9000\n",
            "Epoch 44/100\n",
            "25/25 - 10s - loss: 0.2748 - accuracy: 0.9100 - val_loss: 0.2750 - val_accuracy: 0.9000\n",
            "Epoch 45/100\n",
            "25/25 - 10s - loss: 0.2937 - accuracy: 0.8700 - val_loss: 0.1668 - val_accuracy: 1.0000\n",
            "Epoch 46/100\n",
            "25/25 - 10s - loss: 0.2354 - accuracy: 0.9300 - val_loss: 0.5252 - val_accuracy: 0.8000\n",
            "Epoch 47/100\n",
            "25/25 - 10s - loss: 0.3315 - accuracy: 0.8700 - val_loss: 0.2884 - val_accuracy: 0.9000\n",
            "Epoch 48/100\n",
            "25/25 - 10s - loss: 0.3327 - accuracy: 0.8600 - val_loss: 0.0962 - val_accuracy: 1.0000\n",
            "Epoch 49/100\n",
            "25/25 - 10s - loss: 0.4108 - accuracy: 0.8600 - val_loss: 0.4509 - val_accuracy: 0.9000\n",
            "Epoch 50/100\n",
            "25/25 - 10s - loss: 0.2267 - accuracy: 0.9100 - val_loss: 0.2602 - val_accuracy: 0.9500\n",
            "Epoch 51/100\n",
            "25/25 - 10s - loss: 0.2284 - accuracy: 0.9200 - val_loss: 0.2465 - val_accuracy: 0.9000\n",
            "Epoch 52/100\n",
            "25/25 - 10s - loss: 0.4214 - accuracy: 0.8900 - val_loss: 0.1246 - val_accuracy: 1.0000\n",
            "Epoch 53/100\n",
            "25/25 - 10s - loss: 0.2964 - accuracy: 0.8700 - val_loss: 0.1176 - val_accuracy: 0.9500\n",
            "Epoch 54/100\n",
            "25/25 - 10s - loss: 0.2356 - accuracy: 0.9200 - val_loss: 0.3110 - val_accuracy: 0.9500\n",
            "Epoch 55/100\n",
            "25/25 - 10s - loss: 0.3825 - accuracy: 0.8600 - val_loss: 0.3184 - val_accuracy: 0.9000\n",
            "Epoch 56/100\n",
            "25/25 - 10s - loss: 0.2695 - accuracy: 0.9100 - val_loss: 0.4563 - val_accuracy: 0.8500\n",
            "Epoch 57/100\n",
            "25/25 - 10s - loss: 0.2050 - accuracy: 0.9600 - val_loss: 0.1182 - val_accuracy: 0.9500\n",
            "Epoch 58/100\n",
            "25/25 - 10s - loss: 0.3375 - accuracy: 0.9100 - val_loss: 0.4559 - val_accuracy: 0.8500\n",
            "Epoch 59/100\n",
            "25/25 - 10s - loss: 0.3967 - accuracy: 0.8900 - val_loss: 0.1799 - val_accuracy: 0.9500\n",
            "Epoch 60/100\n",
            "25/25 - 10s - loss: 0.2505 - accuracy: 0.9000 - val_loss: 0.3495 - val_accuracy: 0.9000\n",
            "Epoch 61/100\n",
            "25/25 - 10s - loss: 0.2884 - accuracy: 0.9100 - val_loss: 0.5101 - val_accuracy: 0.8500\n",
            "Epoch 62/100\n",
            "25/25 - 10s - loss: 0.3274 - accuracy: 0.9000 - val_loss: 0.3180 - val_accuracy: 0.8000\n",
            "Epoch 63/100\n",
            "25/25 - 10s - loss: 0.3811 - accuracy: 0.8800 - val_loss: 0.4270 - val_accuracy: 0.8500\n",
            "Epoch 64/100\n",
            "25/25 - 10s - loss: 0.3009 - accuracy: 0.8900 - val_loss: 0.3351 - val_accuracy: 0.9000\n",
            "Epoch 65/100\n",
            "25/25 - 10s - loss: 0.2727 - accuracy: 0.9000 - val_loss: 0.3249 - val_accuracy: 0.8500\n",
            "Epoch 66/100\n",
            "25/25 - 10s - loss: 0.2550 - accuracy: 0.9000 - val_loss: 0.3107 - val_accuracy: 0.8500\n",
            "Epoch 67/100\n",
            "25/25 - 10s - loss: 0.2624 - accuracy: 0.9100 - val_loss: 0.2652 - val_accuracy: 0.9000\n",
            "Epoch 68/100\n",
            "25/25 - 10s - loss: 0.2089 - accuracy: 0.9000 - val_loss: 0.2127 - val_accuracy: 0.9000\n",
            "Epoch 69/100\n",
            "25/25 - 10s - loss: 0.2622 - accuracy: 0.9300 - val_loss: 0.1120 - val_accuracy: 0.9500\n",
            "Epoch 70/100\n",
            "25/25 - 10s - loss: 0.2939 - accuracy: 0.9000 - val_loss: 0.7259 - val_accuracy: 0.7500\n",
            "Epoch 71/100\n",
            "25/25 - 13s - loss: 0.2541 - accuracy: 0.9100 - val_loss: 0.2543 - val_accuracy: 0.9000\n",
            "Epoch 72/100\n",
            "25/25 - 10s - loss: 0.3874 - accuracy: 0.9100 - val_loss: 0.7904 - val_accuracy: 0.8000\n",
            "Epoch 73/100\n",
            "25/25 - 10s - loss: 0.2640 - accuracy: 0.9200 - val_loss: 0.2801 - val_accuracy: 0.9000\n",
            "Epoch 74/100\n",
            "25/25 - 10s - loss: 0.3282 - accuracy: 0.8800 - val_loss: 0.1656 - val_accuracy: 0.9000\n",
            "Epoch 75/100\n",
            "25/25 - 10s - loss: 0.1165 - accuracy: 0.9700 - val_loss: 0.0949 - val_accuracy: 1.0000\n",
            "Epoch 76/100\n",
            "25/25 - 10s - loss: 0.2687 - accuracy: 0.9200 - val_loss: 0.0910 - val_accuracy: 1.0000\n",
            "Epoch 77/100\n",
            "25/25 - 10s - loss: 0.2828 - accuracy: 0.9100 - val_loss: 0.3272 - val_accuracy: 0.9000\n",
            "Epoch 78/100\n",
            "25/25 - 10s - loss: 0.2965 - accuracy: 0.8700 - val_loss: 0.1810 - val_accuracy: 0.9500\n",
            "Epoch 79/100\n",
            "25/25 - 10s - loss: 0.3040 - accuracy: 0.8800 - val_loss: 0.5041 - val_accuracy: 0.8500\n",
            "Epoch 80/100\n",
            "25/25 - 10s - loss: 0.3243 - accuracy: 0.9200 - val_loss: 0.2761 - val_accuracy: 0.9000\n",
            "Epoch 81/100\n",
            "25/25 - 10s - loss: 0.3402 - accuracy: 0.8500 - val_loss: 0.3662 - val_accuracy: 0.9500\n",
            "Epoch 82/100\n",
            "25/25 - 10s - loss: 0.1547 - accuracy: 0.9800 - val_loss: 0.9537 - val_accuracy: 0.7500\n",
            "Epoch 83/100\n",
            "25/25 - 10s - loss: 0.1475 - accuracy: 0.9500 - val_loss: 0.3575 - val_accuracy: 0.9000\n",
            "Epoch 84/100\n",
            "25/25 - 10s - loss: 0.3012 - accuracy: 0.8400 - val_loss: 0.3459 - val_accuracy: 0.9000\n",
            "Epoch 85/100\n",
            "25/25 - 10s - loss: 0.2514 - accuracy: 0.9100 - val_loss: 0.1662 - val_accuracy: 0.9500\n",
            "Epoch 86/100\n",
            "25/25 - 10s - loss: 0.1763 - accuracy: 0.9400 - val_loss: 0.1217 - val_accuracy: 0.9500\n",
            "Epoch 87/100\n",
            "25/25 - 10s - loss: 0.2551 - accuracy: 0.9000 - val_loss: 0.1401 - val_accuracy: 1.0000\n",
            "Epoch 88/100\n",
            "25/25 - 10s - loss: 0.3318 - accuracy: 0.9000 - val_loss: 0.5542 - val_accuracy: 0.8500\n",
            "Epoch 89/100\n",
            "25/25 - 10s - loss: 0.2907 - accuracy: 0.8900 - val_loss: 0.0568 - val_accuracy: 1.0000\n",
            "Epoch 90/100\n",
            "25/25 - 10s - loss: 0.2877 - accuracy: 0.9100 - val_loss: 0.2312 - val_accuracy: 0.9500\n",
            "Epoch 91/100\n",
            "25/25 - 10s - loss: 0.2470 - accuracy: 0.9300 - val_loss: 0.1989 - val_accuracy: 0.8500\n",
            "Epoch 92/100\n",
            "25/25 - 10s - loss: 0.2970 - accuracy: 0.8700 - val_loss: 0.2515 - val_accuracy: 0.9500\n",
            "Epoch 93/100\n",
            "25/25 - 10s - loss: 0.2196 - accuracy: 0.9600 - val_loss: 0.1264 - val_accuracy: 1.0000\n",
            "Epoch 94/100\n",
            "25/25 - 10s - loss: 0.3058 - accuracy: 0.8900 - val_loss: 0.2103 - val_accuracy: 0.8500\n",
            "Epoch 95/100\n",
            "25/25 - 10s - loss: 0.2941 - accuracy: 0.8800 - val_loss: 0.3363 - val_accuracy: 0.9500\n",
            "Epoch 96/100\n",
            "25/25 - 10s - loss: 0.2048 - accuracy: 0.9000 - val_loss: 0.1767 - val_accuracy: 0.9500\n",
            "Epoch 97/100\n",
            "25/25 - 10s - loss: 0.2097 - accuracy: 0.9000 - val_loss: 0.1197 - val_accuracy: 0.9500\n",
            "Epoch 98/100\n",
            "25/25 - 10s - loss: 0.1149 - accuracy: 0.9600 - val_loss: 0.1747 - val_accuracy: 0.9500\n",
            "Epoch 99/100\n",
            "25/25 - 10s - loss: 0.2533 - accuracy: 0.9300 - val_loss: 0.2251 - val_accuracy: 0.9000\n",
            "Epoch 100/100\n",
            "25/25 - 10s - loss: 0.0904 - accuracy: 0.9800 - val_loss: 0.0696 - val_accuracy: 1.0000\n"
          ],
          "name": "stdout"
        },
        {
          "output_type": "execute_result",
          "data": {
            "text/plain": [
              "<tensorflow.python.keras.callbacks.History at 0x7fafd12c6860>"
            ]
          },
          "metadata": {
            "tags": []
          },
          "execution_count": 18
        }
      ]
    },
    {
      "cell_type": "code",
      "metadata": {
        "id": "IpJbljeAQVbE",
        "colab": {
          "resources": {
            "http://localhost:8080/nbextensions/google.colab/files.js": {
              "data": "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",
              "ok": true,
              "headers": [
                [
                  "content-type",
                  "application/javascript"
                ]
              ],
              "status": 200,
              "status_text": ""
            }
          },
          "base_uri": "https://localhost:8080/",
          "height": 358
        },
        "outputId": "f8f723f1-854a-4472-cdb8-366f9cc82873"
      },
      "source": [
        "import numpy as np\n",
        "from google.colab import files\n",
        "from keras.preprocessing import image\n",
        "import matplotlib.pyplot as plt\n",
        "import matplotlib.image as mpimg\n",
        "%matplotlib inline\n",
        " \n",
        "uploaded = files.upload()\n",
        " \n",
        "for fn in uploaded.keys():\n",
        " \n",
        "  # predicting images\n",
        "  path = fn\n",
        "  img = image.load_img(path, target_size=(150,150))\n",
        "  imgplot = plt.imshow(img)\n",
        "  x = image.img_to_array(img)\n",
        "  x = np.expand_dims(x, axis=0)\n",
        " \n",
        "  images = np.vstack([x])\n",
        "  classes = model.predict(images)\n",
        "  \n",
        "  print(fn)\n",
        "  if(classes[0,0]):\n",
        "    print(\"Paper\")\n",
        "\n",
        "  if(classes[0,1]):\n",
        "    print(\"Rock\")\n",
        "\n",
        "  if(classes[0,2]):\n",
        "    print(\"Scissors\")\n",
        "  "
      ],
      "execution_count": null,
      "outputs": [
        {
          "output_type": "display_data",
          "data": {
            "text/html": [
              "\n",
              "     <input type=\"file\" id=\"files-1ee423d1-f141-485a-8696-dd9d3b80b43e\" name=\"files[]\" multiple disabled\n",
              "        style=\"border:none\" />\n",
              "     <output id=\"result-1ee423d1-f141-485a-8696-dd9d3b80b43e\">\n",
              "      Upload widget is only available when the cell has been executed in the\n",
              "      current browser session. Please rerun this cell to enable.\n",
              "      </output>\n",
              "      <script src=\"/nbextensions/google.colab/files.js\"></script> "
            ],
            "text/plain": [
              "<IPython.core.display.HTML object>"
            ]
          },
          "metadata": {
            "tags": []
          }
        },
        {
          "output_type": "stream",
          "text": [
            "Saving testes.PNG to testes.PNG\n",
            "testes.PNG\n",
            "Scissors\n"
          ],
          "name": "stdout"
        },
        {
          "output_type": "display_data",
          "data": {
            "image/png": "[encoded data removed]",
            "text/plain": [
              "<Figure size 432x288 with 1 Axes>"
            ]
          },
          "metadata": {
            "tags": [],
            "needs_background": "light"
          }
        }
      ]
    },
    {
      "cell_type": "markdown",
      "metadata": {
        "id": "z8s9GktVysaq"
      },
      "source": [
        "Muhammad Ihsan Hadi, \n",
        "Kota Bandung, Jawa Barat"
      ]
    },
    {
      "cell_type": "code",
      "metadata": {
        "id": "mU5FNo5jy-ia"
      },
      "source": [
        ""
      ],
      "execution_count": null,
      "outputs": []
    }
  ]
}